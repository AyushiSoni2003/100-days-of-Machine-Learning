{
 "cells": [
  {
   "cell_type": "code",
   "execution_count": 2,
   "id": "59b80b34-2311-44bc-9db1-75fa869869ef",
   "metadata": {},
   "outputs": [],
   "source": [
    "import pandas as pd\n",
    "import requests"
   ]
  },
  {
   "cell_type": "code",
   "execution_count": 2,
   "id": "078cf721-b73e-4258-aece-19f3a00711ca",
   "metadata": {},
   "outputs": [],
   "source": [
    "response = requests.get(\"https://api.themoviedb.org/3/movie/top_rated?api_key=8265bd1679663a7ea12ac168da84d2e8&language=en-US&page=1\")"
   ]
  },
  {
   "cell_type": "code",
   "execution_count": 4,
   "id": "dcdc8cf5-b46e-490b-b9f8-03ff4fcb5c4d",
   "metadata": {},
   "outputs": [],
   "source": [
    "temp_df = pd.DataFrame(response.json()['results'])[['id','title','overview','release_date','popularity','vote_average','vote_count']]"
   ]
  },
  {
   "cell_type": "code",
   "execution_count": 6,
   "id": "4fc4740f-397a-4731-80fc-92dff2d17b01",
   "metadata": {},
   "outputs": [
    {
     "data": {
      "text/html": [
       "<div>\n",
       "<style scoped>\n",
       "    .dataframe tbody tr th:only-of-type {\n",
       "        vertical-align: middle;\n",
       "    }\n",
       "\n",
       "    .dataframe tbody tr th {\n",
       "        vertical-align: top;\n",
       "    }\n",
       "\n",
       "    .dataframe thead th {\n",
       "        text-align: right;\n",
       "    }\n",
       "</style>\n",
       "<table border=\"1\" class=\"dataframe\">\n",
       "  <thead>\n",
       "    <tr style=\"text-align: right;\">\n",
       "      <th></th>\n",
       "      <th>id</th>\n",
       "      <th>title</th>\n",
       "      <th>overview</th>\n",
       "      <th>release_date</th>\n",
       "      <th>popularity</th>\n",
       "      <th>vote_average</th>\n",
       "      <th>vote_count</th>\n",
       "    </tr>\n",
       "  </thead>\n",
       "  <tbody>\n",
       "    <tr>\n",
       "      <th>0</th>\n",
       "      <td>278</td>\n",
       "      <td>The Shawshank Redemption</td>\n",
       "      <td>Imprisoned in the 1940s for the double murder ...</td>\n",
       "      <td>1994-09-23</td>\n",
       "      <td>46.0460</td>\n",
       "      <td>8.712</td>\n",
       "      <td>28593</td>\n",
       "    </tr>\n",
       "    <tr>\n",
       "      <th>1</th>\n",
       "      <td>238</td>\n",
       "      <td>The Godfather</td>\n",
       "      <td>Spanning the years 1945 to 1955, a chronicle o...</td>\n",
       "      <td>1972-03-14</td>\n",
       "      <td>33.4884</td>\n",
       "      <td>8.686</td>\n",
       "      <td>21650</td>\n",
       "    </tr>\n",
       "    <tr>\n",
       "      <th>2</th>\n",
       "      <td>240</td>\n",
       "      <td>The Godfather Part II</td>\n",
       "      <td>In the continuing saga of the Corleone crime f...</td>\n",
       "      <td>1974-12-20</td>\n",
       "      <td>18.7067</td>\n",
       "      <td>8.600</td>\n",
       "      <td>13071</td>\n",
       "    </tr>\n",
       "    <tr>\n",
       "      <th>3</th>\n",
       "      <td>424</td>\n",
       "      <td>Schindler's List</td>\n",
       "      <td>The true story of how businessman Oskar Schind...</td>\n",
       "      <td>1993-12-15</td>\n",
       "      <td>16.4613</td>\n",
       "      <td>8.566</td>\n",
       "      <td>16572</td>\n",
       "    </tr>\n",
       "    <tr>\n",
       "      <th>4</th>\n",
       "      <td>389</td>\n",
       "      <td>12 Angry Men</td>\n",
       "      <td>The defense and the prosecution have rested an...</td>\n",
       "      <td>1957-04-10</td>\n",
       "      <td>28.8145</td>\n",
       "      <td>8.549</td>\n",
       "      <td>9272</td>\n",
       "    </tr>\n",
       "  </tbody>\n",
       "</table>\n",
       "</div>"
      ],
      "text/plain": [
       "    id                     title  \\\n",
       "0  278  The Shawshank Redemption   \n",
       "1  238             The Godfather   \n",
       "2  240     The Godfather Part II   \n",
       "3  424          Schindler's List   \n",
       "4  389              12 Angry Men   \n",
       "\n",
       "                                            overview release_date  popularity  \\\n",
       "0  Imprisoned in the 1940s for the double murder ...   1994-09-23     46.0460   \n",
       "1  Spanning the years 1945 to 1955, a chronicle o...   1972-03-14     33.4884   \n",
       "2  In the continuing saga of the Corleone crime f...   1974-12-20     18.7067   \n",
       "3  The true story of how businessman Oskar Schind...   1993-12-15     16.4613   \n",
       "4  The defense and the prosecution have rested an...   1957-04-10     28.8145   \n",
       "\n",
       "   vote_average  vote_count  \n",
       "0         8.712       28593  \n",
       "1         8.686       21650  \n",
       "2         8.600       13071  \n",
       "3         8.566       16572  \n",
       "4         8.549        9272  "
      ]
     },
     "execution_count": 6,
     "metadata": {},
     "output_type": "execute_result"
    }
   ],
   "source": [
    "temp_df.head()"
   ]
  },
  {
   "cell_type": "code",
   "execution_count": 7,
   "id": "71ccc143-f6a6-40d5-b406-9d863b4a6fff",
   "metadata": {},
   "outputs": [
    {
     "data": {
      "text/plain": [
       "(20, 7)"
      ]
     },
     "execution_count": 7,
     "metadata": {},
     "output_type": "execute_result"
    }
   ],
   "source": [
    "temp_df.shape"
   ]
  },
  {
   "cell_type": "code",
   "execution_count": 8,
   "id": "e01dfd74-1140-47b3-b374-73f6424920b0",
   "metadata": {},
   "outputs": [
    {
     "name": "stdout",
     "output_type": "stream",
     "text": [
      "<class 'pandas.core.frame.DataFrame'>\n",
      "RangeIndex: 20 entries, 0 to 19\n",
      "Data columns (total 7 columns):\n",
      " #   Column        Non-Null Count  Dtype  \n",
      "---  ------        --------------  -----  \n",
      " 0   id            20 non-null     int64  \n",
      " 1   title         20 non-null     object \n",
      " 2   overview      20 non-null     object \n",
      " 3   release_date  20 non-null     object \n",
      " 4   popularity    20 non-null     float64\n",
      " 5   vote_average  20 non-null     float64\n",
      " 6   vote_count    20 non-null     int64  \n",
      "dtypes: float64(2), int64(2), object(3)\n",
      "memory usage: 1.2+ KB\n"
     ]
    }
   ],
   "source": [
    "temp_df.info()"
   ]
  },
  {
   "cell_type": "code",
   "execution_count": 16,
   "id": "0c7e28ac-513f-451e-bbcc-971a3d81c606",
   "metadata": {},
   "outputs": [
    {
     "name": "stdout",
     "output_type": "stream",
     "text": [
      "{'cod': 401, 'message': 'Invalid API key. Please see https://openweathermap.org/faq#error401 for more info.'}\n"
     ]
    }
   ],
   "source": [
    "response = requests.get(\"https://api.openweathermap.org/data/2.5/weather?lat=27.561090&lon=76.621468&appid=ccd3fb80ed8d51ef14529e1809f909b1}\")\n",
    "data = response.json()\n",
    "print(data)\n",
    "# weather_info = {\n",
    "#     \"City\": data[\"name\"],\n",
    "#     \"Country\": data[\"sys\"][\"country\"],\n",
    "#     \"Latitude\": data[\"coord\"][\"lat\"],\n",
    "#     \"Longitude\": data[\"coord\"][\"lon\"],\n",
    "#     \"Temperature (K)\": data[\"main\"][\"temp\"],\n",
    "#     \"Feels Like (K)\": data[\"main\"][\"feels_like\"],\n",
    "#     \"Humidity (%)\": data[\"main\"][\"humidity\"],\n",
    "#     \"Pressure (hPa)\": data[\"main\"][\"pressure\"],\n",
    "#     \"Weather\": data[\"weather\"][0][\"main\"],\n",
    "#     \"Description\": data[\"weather\"][0][\"description\"],\n",
    "#     \"Wind Speed (m/s)\": data[\"wind\"][\"speed\"],\n",
    "#     \"Rain (1h mm)\": data.get(\"rain\", {}).get(\"1h\", 0),  # Safe access\n",
    "#     \"Cloudiness (%)\": data[\"clouds\"][\"all\"]\n",
    "# }\n",
    "\n",
    "# df = pd.DataFrame([weather_info])\n"
   ]
  },
  {
   "cell_type": "code",
   "execution_count": null,
   "id": "d479576a-f68b-488b-b08d-8cea79b3cfd6",
   "metadata": {},
   "outputs": [],
   "source": []
  }
 ],
 "metadata": {
  "kernelspec": {
   "display_name": "Python 3 (ipykernel)",
   "language": "python",
   "name": "python3"
  },
  "language_info": {
   "codemirror_mode": {
    "name": "ipython",
    "version": 3
   },
   "file_extension": ".py",
   "mimetype": "text/x-python",
   "name": "python",
   "nbconvert_exporter": "python",
   "pygments_lexer": "ipython3",
   "version": "3.12.4"
  }
 },
 "nbformat": 4,
 "nbformat_minor": 5
}
